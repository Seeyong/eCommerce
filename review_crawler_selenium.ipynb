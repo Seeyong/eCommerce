{
 "cells": [
  {
   "cell_type": "code",
   "execution_count": 15,
   "metadata": {},
   "outputs": [],
   "source": [
    "from selenium import webdriver\n",
    "from selenium.webdriver.common.keys import Keys\n",
    "from selenium.common.exceptions import StaleElementReferenceException\n",
    "from selenium.webdriver.support.ui import WebDriverWait\n",
    "from selenium.webdriver.support import expected_conditions as EC\n",
    "from selenium.webdriver.common.by import By\n",
    "import time"
   ]
  },
  {
   "cell_type": "code",
   "execution_count": 2,
   "metadata": {},
   "outputs": [],
   "source": [
    "# Delete multiple words from text\n",
    "def replaceMultiple(mainString, toBeReplaces, newString):\n",
    "    # Iterate over the strings to be replaced\n",
    "    for elem in toBeReplaces :\n",
    "        # Check if string is in the main string\n",
    "        if elem in mainString :\n",
    "            # Replace the string\n",
    "            mainString = mainString.replace(elem, newString)\n",
    "    \n",
    "    return  mainString"
   ]
  },
  {
   "cell_type": "markdown",
   "metadata": {},
   "source": [
    "## scraping reviews"
   ]
  },
  {
   "cell_type": "code",
   "execution_count": 74,
   "metadata": {},
   "outputs": [],
   "source": [
    "# Scraping Reviews\n",
    "def reviewScraper(driver):\n",
    "    for num_pg in range(1, 12): #58\n",
    "        #scraping\n",
    "    #     driver = webdriver.Chrome('./chromedriver')\n",
    "    #     driver.get(baseUrl)\n",
    "        elem = driver.find_element_by_id('listPowerReview')\n",
    "        reviews = elem.text.split('이 리뷰가 도움이 되셨나요?')\n",
    "\n",
    "        final=[]\n",
    "        word_to_delete = ['\\n','★','작성자 : 네이버***','조회수 :','0','1','2','3','4','5','6','7','8','9','...▼ 더보기']\n",
    "        for review in reviews:\n",
    "            text = replaceMultiple(review, word_to_delete, \"\").strip()\n",
    "            if text != '':\n",
    "                final.append(text)\n",
    "\n",
    "        # paging\n",
    "#         WebDriverWait(driver, 10).until(EC.presence_of_element_located((By.CLASS_NAME, 'paging')))\n",
    "        next_page = str(num_pg + 1)\n",
    "        paging = driver.find_element_by_class_name('paging')\n",
    "        nextPage = paging.find_elements_by_class_name('next')[0]\n",
    "        links = paging.find_elements_by_tag_name('a')\n",
    "        nextHref = \"javascript:power_review_page('{}');\".format(next_page)\n",
    "\n",
    "        if num_pg == 12:\n",
    "            break\n",
    "        elif num_pg % 10 == 0:\n",
    "            print(nextPage)\n",
    "            nextPage.click()\n",
    "        else:\n",
    "            print(next_page)\n",
    "            print(nextHref)\n",
    "            \n",
    "            for link in links:\n",
    "                \n",
    "#                 WebDriverWait(driver, 10).until(EC.presence_of_element_located((By.XPATH, \"//a[contains(@href,'power_review_page')]\")))\n",
    "                refer = link.get_attribute('href')\n",
    "                print(refer, '\\n Next')\n",
    "                if refer == nextHref:\n",
    "                    link.send_keys(Keys.ENTER)\n",
    "    driver.quit()\n",
    "            \n",
    "    return final"
   ]
  },
  {
   "cell_type": "code",
   "execution_count": 75,
   "metadata": {},
   "outputs": [
    {
     "name": "stdout",
     "output_type": "stream",
     "text": [
      "2\n",
      "javascript:power_review_page('2');\n",
      "http://www.bodybogam.com/shop/shopdetail.html?branduid=2127765&ref=naver_open&NaPm=ct=jts5nneo%7Cci=0yi00028inLqLWK6gv09%7Ctr=pla%7Chk=07345664b7e61e570fd6c9af18bfe3de16e3565b#none\n",
      "http://www.bodybogam.com/shop/shopdetail.html?branduid=2127765&ref=naver_open&NaPm=ct=jts5nneo%7Cci=0yi00028inLqLWK6gv09%7Ctr=pla%7Chk=07345664b7e61e570fd6c9af18bfe3de16e3565b#none \n",
      " Next\n",
      "javascript:power_review_page('2');\n",
      "javascript:power_review_page('2'); \n",
      " Next\n"
     ]
    },
    {
     "ename": "StaleElementReferenceException",
     "evalue": "Message: stale element reference: element is not attached to the page document\n  (Session info: chrome=73.0.3683.86)\n  (Driver info: chromedriver=2.45.615355 (d5698f682d8b2742017df6c81e0bd8e6a3063189),platform=Mac OS X 10.14.3 x86_64)\n",
     "output_type": "error",
     "traceback": [
      "\u001b[0;31m---------------------------------------------------------------------------\u001b[0m",
      "\u001b[0;31mStaleElementReferenceException\u001b[0m            Traceback (most recent call last)",
      "\u001b[0;32m<ipython-input-75-22bc9fcdbf44>\u001b[0m in \u001b[0;36m<module>\u001b[0;34m\u001b[0m\n\u001b[1;32m      3\u001b[0m \u001b[0mdriver\u001b[0m \u001b[0;34m=\u001b[0m \u001b[0mwebdriver\u001b[0m\u001b[0;34m.\u001b[0m\u001b[0mChrome\u001b[0m\u001b[0;34m(\u001b[0m\u001b[0;34m'./chromedriver'\u001b[0m\u001b[0;34m)\u001b[0m\u001b[0;34m\u001b[0m\u001b[0m\n\u001b[1;32m      4\u001b[0m \u001b[0mdriver\u001b[0m\u001b[0;34m.\u001b[0m\u001b[0mget\u001b[0m\u001b[0;34m(\u001b[0m\u001b[0mbaseUrl\u001b[0m\u001b[0;34m)\u001b[0m\u001b[0;34m\u001b[0m\u001b[0m\n\u001b[0;32m----> 5\u001b[0;31m \u001b[0mfinal_reviews\u001b[0m \u001b[0;34m=\u001b[0m \u001b[0mreviewScraper\u001b[0m\u001b[0;34m(\u001b[0m\u001b[0mdriver\u001b[0m\u001b[0;34m)\u001b[0m\u001b[0;34m\u001b[0m\u001b[0m\n\u001b[0m",
      "\u001b[0;32m<ipython-input-74-ade6f69a9ad5>\u001b[0m in \u001b[0;36mreviewScraper\u001b[0;34m(driver)\u001b[0m\n\u001b[1;32m     35\u001b[0m \u001b[0;34m\u001b[0m\u001b[0m\n\u001b[1;32m     36\u001b[0m \u001b[0;31m#                 WebDriverWait(driver, 10).until(EC.presence_of_element_located((By.XPATH, \"//a[contains(@href,'power_review_page')]\")))\u001b[0m\u001b[0;34m\u001b[0m\u001b[0;34m\u001b[0m\u001b[0m\n\u001b[0;32m---> 37\u001b[0;31m                 \u001b[0mprint\u001b[0m\u001b[0;34m(\u001b[0m\u001b[0mlink\u001b[0m\u001b[0;34m.\u001b[0m\u001b[0mget_attribute\u001b[0m\u001b[0;34m(\u001b[0m\u001b[0;34m'href'\u001b[0m\u001b[0;34m)\u001b[0m\u001b[0;34m)\u001b[0m\u001b[0;34m\u001b[0m\u001b[0m\n\u001b[0m\u001b[1;32m     38\u001b[0m                 \u001b[0mrefer\u001b[0m \u001b[0;34m=\u001b[0m \u001b[0mlink\u001b[0m\u001b[0;34m.\u001b[0m\u001b[0mget_attribute\u001b[0m\u001b[0;34m(\u001b[0m\u001b[0;34m'href'\u001b[0m\u001b[0;34m)\u001b[0m\u001b[0;34m\u001b[0m\u001b[0m\n\u001b[1;32m     39\u001b[0m                 \u001b[0mprint\u001b[0m\u001b[0;34m(\u001b[0m\u001b[0mrefer\u001b[0m\u001b[0;34m,\u001b[0m \u001b[0;34m'\\n Next'\u001b[0m\u001b[0;34m)\u001b[0m\u001b[0;34m\u001b[0m\u001b[0m\n",
      "\u001b[0;32m/anaconda3/lib/python3.6/site-packages/selenium/webdriver/remote/webelement.py\u001b[0m in \u001b[0;36mget_attribute\u001b[0;34m(self, name)\u001b[0m\n\u001b[1;32m    141\u001b[0m                 self, name)\n\u001b[1;32m    142\u001b[0m         \u001b[0;32melse\u001b[0m\u001b[0;34m:\u001b[0m\u001b[0;34m\u001b[0m\u001b[0m\n\u001b[0;32m--> 143\u001b[0;31m             \u001b[0mresp\u001b[0m \u001b[0;34m=\u001b[0m \u001b[0mself\u001b[0m\u001b[0;34m.\u001b[0m\u001b[0m_execute\u001b[0m\u001b[0;34m(\u001b[0m\u001b[0mCommand\u001b[0m\u001b[0;34m.\u001b[0m\u001b[0mGET_ELEMENT_ATTRIBUTE\u001b[0m\u001b[0;34m,\u001b[0m \u001b[0;34m{\u001b[0m\u001b[0;34m'name'\u001b[0m\u001b[0;34m:\u001b[0m \u001b[0mname\u001b[0m\u001b[0;34m}\u001b[0m\u001b[0;34m)\u001b[0m\u001b[0;34m\u001b[0m\u001b[0m\n\u001b[0m\u001b[1;32m    144\u001b[0m             \u001b[0mattributeValue\u001b[0m \u001b[0;34m=\u001b[0m \u001b[0mresp\u001b[0m\u001b[0;34m.\u001b[0m\u001b[0mget\u001b[0m\u001b[0;34m(\u001b[0m\u001b[0;34m'value'\u001b[0m\u001b[0;34m)\u001b[0m\u001b[0;34m\u001b[0m\u001b[0m\n\u001b[1;32m    145\u001b[0m             \u001b[0;32mif\u001b[0m \u001b[0mattributeValue\u001b[0m \u001b[0;32mis\u001b[0m \u001b[0;32mnot\u001b[0m \u001b[0;32mNone\u001b[0m\u001b[0;34m:\u001b[0m\u001b[0;34m\u001b[0m\u001b[0m\n",
      "\u001b[0;32m/anaconda3/lib/python3.6/site-packages/selenium/webdriver/remote/webelement.py\u001b[0m in \u001b[0;36m_execute\u001b[0;34m(self, command, params)\u001b[0m\n\u001b[1;32m    631\u001b[0m             \u001b[0mparams\u001b[0m \u001b[0;34m=\u001b[0m \u001b[0;34m{\u001b[0m\u001b[0;34m}\u001b[0m\u001b[0;34m\u001b[0m\u001b[0m\n\u001b[1;32m    632\u001b[0m         \u001b[0mparams\u001b[0m\u001b[0;34m[\u001b[0m\u001b[0;34m'id'\u001b[0m\u001b[0;34m]\u001b[0m \u001b[0;34m=\u001b[0m \u001b[0mself\u001b[0m\u001b[0;34m.\u001b[0m\u001b[0m_id\u001b[0m\u001b[0;34m\u001b[0m\u001b[0m\n\u001b[0;32m--> 633\u001b[0;31m         \u001b[0;32mreturn\u001b[0m \u001b[0mself\u001b[0m\u001b[0;34m.\u001b[0m\u001b[0m_parent\u001b[0m\u001b[0;34m.\u001b[0m\u001b[0mexecute\u001b[0m\u001b[0;34m(\u001b[0m\u001b[0mcommand\u001b[0m\u001b[0;34m,\u001b[0m \u001b[0mparams\u001b[0m\u001b[0;34m)\u001b[0m\u001b[0;34m\u001b[0m\u001b[0m\n\u001b[0m\u001b[1;32m    634\u001b[0m \u001b[0;34m\u001b[0m\u001b[0m\n\u001b[1;32m    635\u001b[0m     \u001b[0;32mdef\u001b[0m \u001b[0mfind_element\u001b[0m\u001b[0;34m(\u001b[0m\u001b[0mself\u001b[0m\u001b[0;34m,\u001b[0m \u001b[0mby\u001b[0m\u001b[0;34m=\u001b[0m\u001b[0mBy\u001b[0m\u001b[0;34m.\u001b[0m\u001b[0mID\u001b[0m\u001b[0;34m,\u001b[0m \u001b[0mvalue\u001b[0m\u001b[0;34m=\u001b[0m\u001b[0;32mNone\u001b[0m\u001b[0;34m)\u001b[0m\u001b[0;34m:\u001b[0m\u001b[0;34m\u001b[0m\u001b[0m\n",
      "\u001b[0;32m/anaconda3/lib/python3.6/site-packages/selenium/webdriver/remote/webdriver.py\u001b[0m in \u001b[0;36mexecute\u001b[0;34m(self, driver_command, params)\u001b[0m\n\u001b[1;32m    319\u001b[0m         \u001b[0mresponse\u001b[0m \u001b[0;34m=\u001b[0m \u001b[0mself\u001b[0m\u001b[0;34m.\u001b[0m\u001b[0mcommand_executor\u001b[0m\u001b[0;34m.\u001b[0m\u001b[0mexecute\u001b[0m\u001b[0;34m(\u001b[0m\u001b[0mdriver_command\u001b[0m\u001b[0;34m,\u001b[0m \u001b[0mparams\u001b[0m\u001b[0;34m)\u001b[0m\u001b[0;34m\u001b[0m\u001b[0m\n\u001b[1;32m    320\u001b[0m         \u001b[0;32mif\u001b[0m \u001b[0mresponse\u001b[0m\u001b[0;34m:\u001b[0m\u001b[0;34m\u001b[0m\u001b[0m\n\u001b[0;32m--> 321\u001b[0;31m             \u001b[0mself\u001b[0m\u001b[0;34m.\u001b[0m\u001b[0merror_handler\u001b[0m\u001b[0;34m.\u001b[0m\u001b[0mcheck_response\u001b[0m\u001b[0;34m(\u001b[0m\u001b[0mresponse\u001b[0m\u001b[0;34m)\u001b[0m\u001b[0;34m\u001b[0m\u001b[0m\n\u001b[0m\u001b[1;32m    322\u001b[0m             response['value'] = self._unwrap_value(\n\u001b[1;32m    323\u001b[0m                 response.get('value', None))\n",
      "\u001b[0;32m/anaconda3/lib/python3.6/site-packages/selenium/webdriver/remote/errorhandler.py\u001b[0m in \u001b[0;36mcheck_response\u001b[0;34m(self, response)\u001b[0m\n\u001b[1;32m    240\u001b[0m                 \u001b[0malert_text\u001b[0m \u001b[0;34m=\u001b[0m \u001b[0mvalue\u001b[0m\u001b[0;34m[\u001b[0m\u001b[0;34m'alert'\u001b[0m\u001b[0;34m]\u001b[0m\u001b[0;34m.\u001b[0m\u001b[0mget\u001b[0m\u001b[0;34m(\u001b[0m\u001b[0;34m'text'\u001b[0m\u001b[0;34m)\u001b[0m\u001b[0;34m\u001b[0m\u001b[0m\n\u001b[1;32m    241\u001b[0m             \u001b[0;32mraise\u001b[0m \u001b[0mexception_class\u001b[0m\u001b[0;34m(\u001b[0m\u001b[0mmessage\u001b[0m\u001b[0;34m,\u001b[0m \u001b[0mscreen\u001b[0m\u001b[0;34m,\u001b[0m \u001b[0mstacktrace\u001b[0m\u001b[0;34m,\u001b[0m \u001b[0malert_text\u001b[0m\u001b[0;34m)\u001b[0m\u001b[0;34m\u001b[0m\u001b[0m\n\u001b[0;32m--> 242\u001b[0;31m         \u001b[0;32mraise\u001b[0m \u001b[0mexception_class\u001b[0m\u001b[0;34m(\u001b[0m\u001b[0mmessage\u001b[0m\u001b[0;34m,\u001b[0m \u001b[0mscreen\u001b[0m\u001b[0;34m,\u001b[0m \u001b[0mstacktrace\u001b[0m\u001b[0;34m)\u001b[0m\u001b[0;34m\u001b[0m\u001b[0m\n\u001b[0m\u001b[1;32m    243\u001b[0m \u001b[0;34m\u001b[0m\u001b[0m\n\u001b[1;32m    244\u001b[0m     \u001b[0;32mdef\u001b[0m \u001b[0m_value_or_default\u001b[0m\u001b[0;34m(\u001b[0m\u001b[0mself\u001b[0m\u001b[0;34m,\u001b[0m \u001b[0mobj\u001b[0m\u001b[0;34m,\u001b[0m \u001b[0mkey\u001b[0m\u001b[0;34m,\u001b[0m \u001b[0mdefault\u001b[0m\u001b[0;34m)\u001b[0m\u001b[0;34m:\u001b[0m\u001b[0;34m\u001b[0m\u001b[0m\n",
      "\u001b[0;31mStaleElementReferenceException\u001b[0m: Message: stale element reference: element is not attached to the page document\n  (Session info: chrome=73.0.3683.86)\n  (Driver info: chromedriver=2.45.615355 (d5698f682d8b2742017df6c81e0bd8e6a3063189),platform=Mac OS X 10.14.3 x86_64)\n"
     ]
    }
   ],
   "source": [
    "baseUrl = 'http://www.bodybogam.com/shop/shopdetail.html?branduid=2127765&ref=naver_open&NaPm=ct=jts5nneo%7Cci=0yi00028inLqLWK6gv09%7Ctr=pla%7Chk=07345664b7e61e570fd6c9af18bfe3de16e3565b#listPowerReview|page=1|list_sort=|list_term=1'\n",
    "\n",
    "driver = webdriver.Chrome('./chromedriver')\n",
    "driver.get(baseUrl)\n",
    "final_reviews = reviewScraper(driver)\n"
   ]
  },
  {
   "cell_type": "code",
   "execution_count": 82,
   "metadata": {},
   "outputs": [],
   "source": [
    "driver.quit()"
   ]
  },
  {
   "cell_type": "code",
   "execution_count": 173,
   "metadata": {
    "scrolled": true
   },
   "outputs": [
    {
     "data": {
      "text/plain": [
       "['아주만족건강 생각 없이 살다가 골반이 너무 아파서 병원 갔더니 교정이 필요하다고 해서 찾아보다가 샀어요. 기분탓인지 모르겠는데 좀 안 아픈 것 같기도 하고 훨씬 나아요 잘 쓸게요!',\n",
       " '아주만족오래 걸으면 발바닥이 아파서 구매해봤는데 괜찮네요.. 처음엔 약간 불편했는데 오래걸으면 오히려 이거 쓰는게 발이 안아파용! 굿',\n",
       " '아주만족불편할줄 알았는데 오히려 발바닥 패드 없으면 신발을 못신어요!! ㅋㅋㅋ 진짜 혁명템이다 이건!!',\n",
       " '아주만족걸음걸이가 짝짝이라 신발이 한쪽만 닳아서 구매했습니다. 사용해보니 적응이되지않아 아직 편하진 않지만 확실히 올바르게걷고잇는 느낌이 확 들어요',\n",
       " '아주만족걸을때 발바닥이 너무 아파서 광고 보자마자 샀는데 폭신하고 발바닥이 안아프고 좋네요 엄마도 하나 사드려야겠어요!']"
      ]
     },
     "execution_count": 173,
     "metadata": {},
     "output_type": "execute_result"
    }
   ],
   "source": [
    "final_reviews"
   ]
  },
  {
   "cell_type": "code",
   "execution_count": 122,
   "metadata": {},
   "outputs": [
    {
     "name": "stdout",
     "output_type": "stream",
     "text": [
      "['작성자 : 네이버***\\n조회수 : 317\\n★★★★★\\n아주만족\\n건강 생각 없이 살다가 골반이 너무 아파서 병원 갔더니 교정이 필요하다고 해서 찾아보다가 샀어요. 기분탓인지 모르겠는데 좀 안 아픈 것 같기도 하고 훨씬 나아요 잘 쓸게요!\\n', ' 30 3\\n작성자 : 네이버***\\n조회수 : 66\\n★★★★★\\n아주만족\\n\\n오래 걸으면 발바닥이 아파서 구매해봤는데 괜찮네요.. 처음엔 약간 불편했는데 오래걸으면 오히려 이거 쓰는게 발이 안아파용! 굿\\n\\n\\n...▼ 더보기\\n\\n\\n\\n\\n\\n\\n\\n\\n', ' 20 3\\n작성자 : 네이버***\\n조회수 : 204\\n★★★★★\\n아주만족\\n\\n불편할줄 알았는데 오히려 발바닥 패드 없으면 신발을 못신어요!! ㅋㅋㅋ 진짜 혁명템이다 이건!!\\n\\n\\n...▼ 더보기\\n\\n\\n\\n\\n\\n\\n\\n\\n', ' 28 3\\n작성자 : 네이버***\\n조회수 : 83\\n★★★★★\\n아주만족\\n\\n걸음걸이가 짝짝이라 신발이 한쪽만 닳아서 구매했습니다. 사용해보니 적응이되지않아 아직 편하진 않지만 확실히 올바르게걷고잇는 느낌이 확 들어요\\n\\n\\n...▼ 더보기\\n\\n\\n\\n\\n\\n\\n\\n\\n', ' 20 1\\n작성자 : 네이버***\\n조회수 : 166\\n★★★★★\\n아주만족\\n\\n걸을때 발바닥이 너무 아파서 광고 보자마자 샀는데 폭신하고 발바닥이 안아프고 좋네요 엄마도 하나 사드려야겠어요!\\n\\n\\n...▼ 더보기\\n\\n\\n\\n\\n\\n\\n\\n\\n', ' 25 4\\n1 2 3 4 5 6 7 8 9 10']\n"
     ]
    }
   ],
   "source": [
    "driver = webdriver.Chrome('./chromedriver')\n",
    "driver.get('http://www.bodybogam.com/shop/shopdetail.html?branduid=2127765&ref=naver_open&NaPm=ct=jts5nneo%7Cci=0yi00028inLqLWK6gv09%7Ctr=pla%7Chk=07345664b7e61e570fd6c9af18bfe3de16e3565b#listPowerReview|page=1|list_sort=|list_term=1')\n",
    "elem = driver.find_element_by_id('listPowerReview')\n",
    "reviews = elem.text.split('이 리뷰가 도움이 되셨나요?')\n",
    "print(reviews)\n",
    "# simple_reviews = elem.find_element_by_class_name('pr-content-simple')\n",
    "driver.quit()\n",
    "\n"
   ]
  },
  {
   "cell_type": "code",
   "execution_count": 84,
   "metadata": {},
   "outputs": [],
   "source": [
    "driver.quit()"
   ]
  },
  {
   "cell_type": "code",
   "execution_count": 123,
   "metadata": {},
   "outputs": [
    {
     "data": {
      "text/plain": [
       "['아주만족건강 생각 없이 살다가 골반이 너무 아파서 병원 갔더니 교정이 필요하다고 해서 찾아보다가 샀어요. 기분탓인지 모르겠는데 좀 안 아픈 것 같기도 하고 훨씬 나아요 잘 쓸게요!',\n",
       " '아주만족오래 걸으면 발바닥이 아파서 구매해봤는데 괜찮네요.. 처음엔 약간 불편했는데 오래걸으면 오히려 이거 쓰는게 발이 안아파용! 굿',\n",
       " '아주만족불편할줄 알았는데 오히려 발바닥 패드 없으면 신발을 못신어요!! ㅋㅋㅋ 진짜 혁명템이다 이건!!',\n",
       " '아주만족걸음걸이가 짝짝이라 신발이 한쪽만 닳아서 구매했습니다. 사용해보니 적응이되지않아 아직 편하진 않지만 확실히 올바르게걷고잇는 느낌이 확 들어요',\n",
       " '아주만족걸을때 발바닥이 너무 아파서 광고 보자마자 샀는데 폭신하고 발바닥이 안아프고 좋네요 엄마도 하나 사드려야겠어요!']"
      ]
     },
     "execution_count": 123,
     "metadata": {},
     "output_type": "execute_result"
    }
   ],
   "source": [
    "final=[]\n",
    "word_to_delete = ['\\n','★','작성자 : 네이버***','조회수 :','0','1','2','3','4','5','6','7','8','9','...▼ 더보기']\n",
    "for review in reviews:\n",
    "    text = replaceMultiple(review, word_to_delete, \"\").strip()\n",
    "    if text != '':\n",
    "        final.append(text)\n",
    "final\n",
    "\n",
    "\n"
   ]
  },
  {
   "cell_type": "markdown",
   "metadata": {},
   "source": [
    "## Paging"
   ]
  },
  {
   "cell_type": "code",
   "execution_count": 49,
   "metadata": {},
   "outputs": [],
   "source": [
    "driver = webdriver.Chrome('./chromedriver')\n",
    "driver.get('http://www.bodybogam.com/shop/shopdetail.html?branduid=2127765&ref=naver_open&NaPm=ct=jts5nneo%7Cci=0yi00028inLqLWK6gv09%7Ctr=pla%7Chk=07345664b7e61e570fd6c9af18bfe3de16e3565b#listPowerReview|page=1|list_sort=|list_term=1')\n",
    "paging = driver.find_element_by_class_name('paging')\n",
    "\n",
    "links = paging.find_elements_by_tag_name('a')\n",
    "nextPage = paging.find_elements_by_class_name('next')\n",
    "next_page = '4'\n",
    "nextHref = \"javascript:power_review_page('\" + next_page + \"');\"\n",
    "\n",
    "for link in links:\n",
    "    refer = link.get_attribute('href')\n",
    "    if refer == nextHref:\n",
    "        link.send_keys(Keys.ENTER)\n",
    "#         driver.execute_script(link)\n",
    "# driver.quit()\n",
    "\n"
   ]
  },
  {
   "cell_type": "code",
   "execution_count": 85,
   "metadata": {},
   "outputs": [],
   "source": [
    "driver = webdriver.Chrome('./chromedriver')\n",
    "driver.get('http://www.bodybogam.com/shop/shopdetail.html?branduid=2127765&ref=naver_open&NaPm=ct=jts5nneo%7Cci=0yi00028inLqLWK6gv09%7Ctr=pla%7Chk=07345664b7e61e570fd6c9af18bfe3de16e3565b#listPowerReview|page=1|list_sort=|list_term=1')\n",
    "\n",
    "xp = driver.find_element_by_xpath(\"//a[contains(@href,'power_review_page')]\").click()"
   ]
  },
  {
   "cell_type": "code",
   "execution_count": null,
   "metadata": {},
   "outputs": [],
   "source": []
  }
 ],
 "metadata": {
  "kernelspec": {
   "display_name": "Python 3",
   "language": "python",
   "name": "python3"
  },
  "language_info": {
   "codemirror_mode": {
    "name": "ipython",
    "version": 3
   },
   "file_extension": ".py",
   "mimetype": "text/x-python",
   "name": "python",
   "nbconvert_exporter": "python",
   "pygments_lexer": "ipython3",
   "version": "3.6.5"
  }
 },
 "nbformat": 4,
 "nbformat_minor": 2
}
