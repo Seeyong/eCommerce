{
 "cells": [
  {
   "cell_type": "code",
   "execution_count": 18,
   "metadata": {},
   "outputs": [],
   "source": [
    "from selenium import webdriver\n",
    "from selenium.webdriver.common.keys import Keys\n",
    "from selenium.common.exceptions import StaleElementReferenceException, WebDriverException, NoSuchElementException\n",
    "from selenium.webdriver.support.ui import WebDriverWait\n",
    "from selenium.webdriver.support import expected_conditions as EC\n",
    "from selenium.webdriver.common.by import By\n",
    "import time"
   ]
  },
  {
   "cell_type": "code",
   "execution_count": 6,
   "metadata": {},
   "outputs": [],
   "source": [
    "# Delete multiple words from text\n",
    "def replaceMultiple(mainString, toBeReplaces, newString):\n",
    "    # Iterate over the strings to be replaced\n",
    "    for elem in toBeReplaces :\n",
    "        # Check if string is in the main string\n",
    "        if elem in mainString :\n",
    "            # Replace the string\n",
    "            mainString = mainString.replace(elem, newString)\n",
    "    \n",
    "    return  mainString"
   ]
  },
  {
   "cell_type": "code",
   "execution_count": 38,
   "metadata": {},
   "outputs": [],
   "source": [
    "# paging\n",
    "def paging(driver, num_pg, wait_sec):\n",
    "    next_page = str(num_pg + 1)\n",
    "    nextHref = '\"' + \"power_review_page(\"+\"'\" +next_page+\"'\"+\");\" + '\"'\n",
    "    try:\n",
    "        xp = driver.find_element_by_xpath(\"//a[contains(@href,%s)]\"%nextHref)\n",
    "        time.sleep(1)\n",
    "    except NoSuchElementException:\n",
    "        time.sleep(3)\n",
    "        nextHref = '\"' + \"power_review_page(\"+\"'\" +next_page+\"'\"+\");\" + '\"'\n",
    "        xp = driver.find_element_by_xpath(\"//a[contains(@href,%s)]\"%nextHref)\n",
    "        time.sleep(1)\n",
    "    \n",
    "#     xp = WebDriverWait(driver, 10).until(EC.presence_of_element_located((By.XPATH, nextHref)))\n",
    "#     time.sleep(wait_sec)\n",
    "    try:\n",
    "        driver.execute_script(\"arguments[0].click();\", xp)\n",
    "    except StaleElementReferenceException:\n",
    "        xp = driver.find_element_by_xpath(\"//a[contains(@href,%s)]\"%nextHref)\n",
    "        driver.execute_script(\"arguments[0].click();\", xp)\n",
    "        \n",
    "    print(str(num_pg) + \" pg is done\")"
   ]
  },
  {
   "cell_type": "code",
   "execution_count": 8,
   "metadata": {},
   "outputs": [],
   "source": [
    "# Scraping Reviews\n",
    "def reviewScraper(driver):\n",
    "    #scraping\n",
    "    elem = driver.find_element_by_id('listPowerReview')\n",
    "    reviews = elem.text.split('이 리뷰가 도움이 되셨나요?')\n",
    "\n",
    "    final=[]\n",
    "    word_to_delete = ['\\n','★','작성자 :','작성자 : 네이버***','조회수 :','0','1','2','3','4','5','6','7','8','9','...▼ 더보기']  \n",
    "    for review in reviews:\n",
    "        text = replaceMultiple(review, word_to_delete, \"\").strip()\n",
    "        if (text != '') and ('미흡' not in text) and ('불만족' not in text):\n",
    "            text = text.split('*')[-1].strip()\n",
    "            text = replaceMultiple(text, ['아주만족','만족','보통'],'')\n",
    "            final.append(text)\n",
    "            \n",
    "    return final"
   ]
  },
  {
   "cell_type": "code",
   "execution_count": 39,
   "metadata": {},
   "outputs": [
    {
     "name": "stdout",
     "output_type": "stream",
     "text": [
      "1 pg is done\n",
      "2 pg is done\n",
      "3 pg is done\n",
      "4 pg is done\n",
      "5 pg is done\n",
      "6 pg is done\n",
      "7 pg is done\n",
      "8 pg is done\n",
      "9 pg is done\n",
      "10 pg is done\n",
      "11 pg is done\n",
      "12 pg is done\n",
      "13 pg is done\n",
      "14 pg is done\n",
      "15 pg is done\n",
      "16 pg is done\n",
      "17 pg is done\n",
      "18 pg is done\n",
      "19 pg is done\n",
      "20 pg is done\n",
      "21 pg is done\n",
      "22 pg is done\n",
      "23 pg is done\n",
      "24 pg is done\n",
      "25 pg is done\n",
      "26 pg is done\n",
      "27 pg is done\n",
      "28 pg is done\n",
      "29 pg is done\n",
      "30 pg is done\n",
      "31 pg is done\n",
      "32 pg is done\n",
      "33 pg is done\n",
      "34 pg is done\n",
      "35 pg is done\n",
      "36 pg is done\n",
      "37 pg is done\n",
      "38 pg is done\n",
      "39 pg is done\n",
      "40 pg is done\n",
      "41 pg is done\n",
      "42 pg is done\n",
      "43 pg is done\n",
      "44 pg is done\n",
      "45 pg is done\n",
      "46 pg is done\n",
      "47 pg is done\n",
      "48 pg is done\n",
      "49 pg is done\n",
      "50 pg is done\n",
      "51 pg is done\n",
      "52 pg is done\n",
      "53 pg is done\n",
      "54 pg is done\n",
      "55 pg is done\n",
      "56 pg is done\n",
      "57 pg is done\n"
     ]
    }
   ],
   "source": [
    "# main function\n",
    "baseUrl = 'http://www.bodybogam.com/shop/shopdetail.html?branduid=2127765&ref=naver_open&NaPm=ct=jts5nneo%7Cci=0yi00028inLqLWK6gv09%7Ctr=pla%7Chk=07345664b7e61e570fd6c9af18bfe3de16e3565b#listPowerReview|page=1|list_sort=|list_term=1'\n",
    "driver = webdriver.Chrome('./chromedriver')\n",
    "driver.get(baseUrl)\n",
    "\n",
    "total_final = []\n",
    "num_last_pg = 59\n",
    "\n",
    "for num_pg in range(1, num_last_pg):\n",
    "    total_final.append(reviewScraper(driver))\n",
    "    paging(driver, num_pg, 1)\n",
    "    \n",
    "\n"
   ]
  },
  {
   "cell_type": "code",
   "execution_count": 44,
   "metadata": {},
   "outputs": [
    {
     "data": {
      "text/plain": [
       "57"
      ]
     },
     "execution_count": 44,
     "metadata": {},
     "output_type": "execute_result"
    }
   ],
   "source": [
    "len(total_final)"
   ]
  },
  {
   "cell_type": "code",
   "execution_count": 41,
   "metadata": {},
   "outputs": [],
   "source": [
    "driver.quit()"
   ]
  },
  {
   "cell_type": "code",
   "execution_count": null,
   "metadata": {},
   "outputs": [],
   "source": []
  }
 ],
 "metadata": {
  "kernelspec": {
   "display_name": "Python 3",
   "language": "python",
   "name": "python3"
  },
  "language_info": {
   "codemirror_mode": {
    "name": "ipython",
    "version": 3
   },
   "file_extension": ".py",
   "mimetype": "text/x-python",
   "name": "python",
   "nbconvert_exporter": "python",
   "pygments_lexer": "ipython3",
   "version": "3.6.5"
  }
 },
 "nbformat": 4,
 "nbformat_minor": 2
}
