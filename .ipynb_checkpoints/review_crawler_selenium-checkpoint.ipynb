{
 "cells": [
  {
   "cell_type": "code",
   "execution_count": 114,
   "metadata": {},
   "outputs": [],
   "source": [
    "from selenium import webdriver\n",
    "from selenium.webdriver.common.keys import Keys\n",
    "from selenium.common.exceptions import StaleElementReferenceException, WebDriverException\n",
    "from selenium.webdriver.support.ui import WebDriverWait\n",
    "from selenium.webdriver.support import expected_conditions as EC\n",
    "from selenium.webdriver.common.by import By\n",
    "import time"
   ]
  },
  {
   "cell_type": "code",
   "execution_count": 115,
   "metadata": {},
   "outputs": [],
   "source": [
    "# Delete multiple words from text\n",
    "def replaceMultiple(mainString, toBeReplaces, newString):\n",
    "    # Iterate over the strings to be replaced\n",
    "    for elem in toBeReplaces :\n",
    "        # Check if string is in the main string\n",
    "        if elem in mainString :\n",
    "            # Replace the string\n",
    "            mainString = mainString.replace(elem, newString)\n",
    "    \n",
    "    return  mainString"
   ]
  },
  {
   "cell_type": "code",
   "execution_count": 149,
   "metadata": {},
   "outputs": [],
   "source": [
    "# paging\n",
    "def paging(driver, num_pg, wait_sec):\n",
    "    next_page = str(num_pg + 1)\n",
    "    nextHref = '\"' + \"power_review_page(\"+\"'\" +next_page+\"'\"+\");\" + '\"'\n",
    "    xp = driver.find_element_by_xpath(\"//a[contains(@href,%s)]\"%nextHref)\n",
    "    time.sleep(wait_sec)\n",
    "    \n",
    "#     xp = WebDriverWait(driver, 10).until(EC.presence_of_element_located((By.XPATH, nextHref)))\n",
    "#     time.sleep(wait_sec)\n",
    "\n",
    "    driver.execute_script(\"arguments[0].click();\", xp)\n",
    "#     xp.click()\n",
    "    print(str(num_pg) + \" pg is done\")"
   ]
  },
  {
   "cell_type": "code",
   "execution_count": 139,
   "metadata": {},
   "outputs": [],
   "source": [
    "# Scraping Reviews\n",
    "def reviewScraper(driver):\n",
    "    #scraping\n",
    "    elem = driver.find_element_by_id('listPowerReview')\n",
    "    reviews = elem.text.split('이 리뷰가 도움이 되셨나요?')\n",
    "\n",
    "    final=[]\n",
    "    word_to_delete = ['\\n','★','작성자 :','작성자 : 네이버***','조회수 :','0','1','2','3','4','5','6','7','8','9','...▼ 더보기','아주만족','만족','보통','미흡','불만족']\n",
    "    for review in reviews:\n",
    "        text = replaceMultiple(review, word_to_delete, \"\").strip()\n",
    "        if text != '':\n",
    "            text = text.split('*')[-1].strip()\n",
    "            final.append(text)\n",
    "            \n",
    "    return final"
   ]
  },
  {
   "cell_type": "code",
   "execution_count": 150,
   "metadata": {},
   "outputs": [],
   "source": [
    "# main function\n",
    "baseUrl = 'http://www.bodybogam.com/shop/shopdetail.html?branduid=2127765&ref=naver_open&NaPm=ct=jts5nneo%7Cci=0yi00028inLqLWK6gv09%7Ctr=pla%7Chk=07345664b7e61e570fd6c9af18bfe3de16e3565b#listPowerReview|page=1|list_sort=|list_term=1'\n",
    "driver = webdriver.Chrome('./chromedriver')\n",
    "driver.get(baseUrl)\n",
    "\n",
    "total_final = []\n",
    "num_last_pg = 12\n",
    "\n",
    "for num_pg in range(1, num_last_pg):\n",
    "    total_final.append(reviewScraper(driver))\n",
    "    paging(driver, num_pg, 5)\n",
    "    \n",
    "\n"
   ]
  },
  {
   "cell_type": "code",
   "execution_count": 151,
   "metadata": {},
   "outputs": [],
   "source": [
    "total_final"
   ]
  },
  {
   "cell_type": "code",
   "execution_count": 145,
   "metadata": {},
   "outputs": [],
   "source": [
    "driver.quit()"
   ]
  },
  {
   "cell_type": "code",
   "execution_count": null,
   "metadata": {},
   "outputs": [],
   "source": []
  }
 ],
 "metadata": {
  "kernelspec": {
   "display_name": "Python 3",
   "language": "python",
   "name": "python3"
  },
  "language_info": {
   "codemirror_mode": {
    "name": "ipython",
    "version": 3
   },
   "file_extension": ".py",
   "mimetype": "text/x-python",
   "name": "python",
   "nbconvert_exporter": "python",
   "pygments_lexer": "ipython3",
   "version": "3.6.5"
  }
 },
 "nbformat": 4,
 "nbformat_minor": 2
}
