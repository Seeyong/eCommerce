{
 "cells": [
  {
   "cell_type": "code",
   "execution_count": 1,
   "metadata": {},
   "outputs": [],
   "source": [
    "from selenium import webdriver\n",
    "from selenium.webdriver.common.keys import Keys\n",
    "from selenium.common.exceptions import StaleElementReferenceException, WebDriverException, NoSuchElementException\n",
    "from selenium.webdriver.support.ui import WebDriverWait\n",
    "from selenium.webdriver.support import expected_conditions as EC\n",
    "from selenium.webdriver.common.by import By\n",
    "import time\n",
    "from tqdm import tqdm\n",
    "import sqlite3\n",
    "from sqlite3 import Error\n",
    "import os\n",
    "import random\n",
    "from random import randrange\n",
    "import pandas as pd\n",
    "import numpy as np\n",
    "import datetime\n",
    "from datetime import timedelta\n",
    "import xlsxwriter"
   ]
  },
  {
   "cell_type": "code",
   "execution_count": 2,
   "metadata": {},
   "outputs": [],
   "source": [
    "# Delete multiple words from text\n",
    "def replaceMultiple(mainString, toBeReplaces, newString):\n",
    "    # Iterate over the strings to be replaced\n",
    "    for elem in toBeReplaces :\n",
    "        # Check if string is in the main string\n",
    "        if elem in mainString :\n",
    "            # Replace the string\n",
    "            mainString = mainString.replace(elem, newString)\n",
    "    \n",
    "    return  mainString"
   ]
  },
  {
   "cell_type": "code",
   "execution_count": 3,
   "metadata": {},
   "outputs": [],
   "source": [
    "# paging\n",
    "def paging(driver, num_pg, wait_sec):\n",
    "    next_page = str(num_pg + 1)\n",
    "    nextHref = '\"' + \"power_review_page(\"+\"'\" +next_page+\"'\"+\");\" + '\"'\n",
    "    try:\n",
    "        xp = driver.find_element_by_xpath(\"//a[contains(@href,%s)]\"%nextHref)\n",
    "        time.sleep(wait_sec)\n",
    "    except NoSuchElementException:\n",
    "        time.sleep(wait_sec)\n",
    "        nextHref = '\"' + \"power_review_page(\"+\"'\" +next_page+\"'\"+\");\" + '\"'\n",
    "        xp = driver.find_element_by_xpath(\"//a[contains(@href,%s)]\"%nextHref)\n",
    "        time.sleep(wait_sec)\n",
    "    try:\n",
    "        driver.execute_script(\"arguments[0].click();\", xp)\n",
    "    except StaleElementReferenceException:\n",
    "        xp = driver.find_element_by_xpath(\"//a[contains(@href,%s)]\"%nextHref)\n",
    "        driver.execute_script(\"arguments[0].click();\", xp)\n",
    "        \n",
    "#     print(str(num_pg) + \" pg is done\")"
   ]
  },
  {
   "cell_type": "code",
   "execution_count": 4,
   "metadata": {},
   "outputs": [],
   "source": [
    "# Scraping Reviews\n",
    "def reviewScraper(driver):\n",
    "    #scraping\n",
    "    elem = driver.find_element_by_id('listPowerReview')\n",
    "    reviews = elem.text.split('이 리뷰가 도움이 되셨나요?')\n",
    "\n",
    "    final=[]\n",
    "    word_to_delete = ['\\n','★','작성자 :','작성자 : 네이버***','조회수 :','0','1','2','3','4','5','6','7','8','9','...▼ 더보기']  \n",
    "    for review in reviews:\n",
    "        text = replaceMultiple(review, word_to_delete, \"\").strip()\n",
    "        if (text != '') and ('미흡' not in text) and ('불만족' not in text):\n",
    "            text = text.split('*')[-1].strip()\n",
    "            text = replaceMultiple(text, ['아주만족','만족','보통'],'')\n",
    "            final.append(text)\n",
    "            \n",
    "    return final"
   ]
  },
  {
   "cell_type": "code",
   "execution_count": null,
   "metadata": {},
   "outputs": [],
   "source": []
  },
  {
   "cell_type": "code",
   "execution_count": 5,
   "metadata": {},
   "outputs": [],
   "source": [
    "def createDatabase(dbpath):\n",
    "    filepath = './' + dbpath\n",
    "    if os.path.exists(filepath) == False:\n",
    "        try:\n",
    "            conn = sqlite3.connect(dbpath)\n",
    "        except Error as e:\n",
    "            print(e)\n",
    "        finally:\n",
    "            conn.close()"
   ]
  },
  {
   "cell_type": "code",
   "execution_count": 6,
   "metadata": {},
   "outputs": [],
   "source": [
    "def createContentsTable():\n",
    "    # connect to sqlite DB\n",
    "    dbpath = 'reviewDB.sqlite'\n",
    "    conn = sqlite3.connect(dbpath)\n",
    "\n",
    "    # create a table\n",
    "    cur = conn.cursor()\n",
    "    cur.executescript('''\n",
    "    /* create a table if not exists already */\n",
    "    CREATE TABLE IF NOT EXISTS contents (\n",
    "        ID INTEGER PRIMARY KEY,\n",
    "        URL VARCHAR(225) UNIQUE, -- only one url exist\n",
    "        CATEGORY VARCHAR(225),\n",
    "        INPUT_DATE DATE,\n",
    "        CONTRIBUTOR VARCHAR(225))\n",
    "    ''')\n",
    "\n",
    "    # commit to DB\n",
    "    conn.commit()"
   ]
  },
  {
   "cell_type": "code",
   "execution_count": 7,
   "metadata": {},
   "outputs": [],
   "source": [
    "def randomNameCreator(num_names):\n",
    "    random_name_list = []\n",
    "    characters_eng = ['a','b','c','d','e','f','g','h','i','j','k','l','m','n','o','p','q','r','s','t','u','v','w','x','y','z']   \n",
    "    for i in range(num_names):\n",
    "        random_name = ''.join(random.choices(characters_eng, k=4)) + '****'\n",
    "        random_name_list.append(random_name)\n",
    "\n",
    "    return random_name_list"
   ]
  },
  {
   "cell_type": "code",
   "execution_count": 8,
   "metadata": {},
   "outputs": [],
   "source": [
    "def randomStarCreator(num_stars, min_stars=4, max_stars=5):\n",
    "    random_stars_list = []\n",
    "    for i in range(num_stars):\n",
    "        stars = random.randint(min_stars, max_stars)\n",
    "        random_stars_list.append(stars)\n",
    "\n",
    "    return random_stars_list"
   ]
  },
  {
   "cell_type": "code",
   "execution_count": 9,
   "metadata": {},
   "outputs": [],
   "source": [
    "def randomDateCreator(num_dates, start_date, end_date):\n",
    "    random_dates_list = []\n",
    "    date_format = '%Y-%m-%d %H:%M'\n",
    "    delta = end_date - start_date\n",
    "    int_delta = (delta.days * 24 * 60 * 60) + delta.seconds\n",
    "    for i in range(num_dates):\n",
    "        random_second = randrange(int_delta)\n",
    "        final_date = start_date + timedelta(seconds=random_second)\n",
    "        final_date = final_date.strftime(date_format)\n",
    "        random_dates_list.append(final_date)\n",
    "    return random_dates_list"
   ]
  },
  {
   "cell_type": "code",
   "execution_count": 10,
   "metadata": {},
   "outputs": [],
   "source": [
    "# main function\n",
    "baseUrl = 'http://www.bodybogam.com/shop/shopdetail.html?branduid=2127765&ref=naver_open&NaPm=ct=jts5nneo%7Cci=0yi00028inLqLWK6gv09%7Ctr=pla%7Chk=07345664b7e61e570fd6c9af18bfe3de16e3565b#listPowerReview|page=1|list_sort=|list_term=1'\n",
    "driver = webdriver.Chrome('./chromedriver')\n",
    "driver.get(baseUrl)\n",
    "\n",
    "total_final = []\n",
    "num_last_pg = 59\n",
    "\n",
    "for num_pg in tqdm(range(1, num_last_pg)):\n",
    "    total_final.append(reviewScraper(driver))\n",
    "    paging(driver, num_pg, 0.25)\n",
    "    \n",
    "total_final = [review for reviews in total_final for review in reviews] # double for loop list comprehensi\n",
    "    \n",
    "driver.quit()\n",
    "\n",
    "random_name_list = randomNameCreator(len(total_final))\n",
    "random_stars_list = randomStarCreator(len(total_final))\n",
    "start_date = datetime.datetime(2019, 3, 1, 10)\n",
    "end_date = datetime.datetime(2019, 4, 3, 22)\n",
    "random_dates_list = randomDateCreator(len(total_final), start_date, end_date)"
   ]
  },
  {
   "cell_type": "code",
   "execution_count": 11,
   "metadata": {},
   "outputs": [],
   "source": [
    "datas = {\n",
    "#     '상품번호' : [],\n",
    "#     '옵션' : [],\n",
    "    '제목': total_final,\n",
    "    '내용(HTML)' : total_final,\n",
    "#     '이미지 파일명' : [],\n",
    "    '작성자' : random_name_list,\n",
    "    '작성시간' : random_dates_list,\n",
    "    '평점' : random_stars_list\n",
    "}\n",
    "columns = ['상품번호', ' 옵션', '제목', '내용(HTML)', '이미지 파일명', '작성자', '작성시간', '평점']\n",
    "datas = pd.DataFrame(datas, columns=columns)\n",
    "file_name = 'review_sample.xlsx'\n",
    "datas.to_excel(file_name)"
   ]
  },
  {
   "cell_type": "code",
   "execution_count": null,
   "metadata": {},
   "outputs": [],
   "source": []
  }
 ],
 "metadata": {
  "kernelspec": {
   "display_name": "Python 3",
   "language": "python",
   "name": "python3"
  },
  "language_info": {
   "codemirror_mode": {
    "name": "ipython",
    "version": 3
   },
   "file_extension": ".py",
   "mimetype": "text/x-python",
   "name": "python",
   "nbconvert_exporter": "python",
   "pygments_lexer": "ipython3",
   "version": "3.6.5"
  }
 },
 "nbformat": 4,
 "nbformat_minor": 2
}
