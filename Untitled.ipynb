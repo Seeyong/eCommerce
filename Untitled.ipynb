{
 "cells": [
  {
   "cell_type": "code",
   "execution_count": 1,
   "metadata": {},
   "outputs": [],
   "source": [
    "from urllib import request as rq\n",
    "import urllib\n",
    "from bs4 import BeautifulSoup as bs\n",
    "import time"
   ]
  },
  {
   "cell_type": "code",
   "execution_count": null,
   "metadata": {},
   "outputs": [],
   "source": [
    "basic_url = \"http://www.mcnplaza.com/shop/shopdetail.html?branduid=41669&ref=naver_open&n_media=27758&n_query=%EC%9E%90%EC%84%B8%EA%B5%90%EC%A0%95%EA%B9%94%EC%B0%BD&n_rank=1&n_ad_group=grp-a001-02-000000001850501&n_ad=nad-a001-02-000000038799899&n_campaign_type=2&n_mall_pid=41669&NaPm=ct%3Djttu3qww%7Cci%3D0yK0000uRDPqqwfnVf23%7Ctr%3Dpla%7Chk%3D83cceda555c01cc5895417c439fa2d058292c0f6#detail_tab_04\"\n",
    "basic_url = \"http://www.mcnplaza.com/shop/shopdetail.html?branduid=41669&ref=naver_open&n_media=27758&n_query=%EC%9E%90%EC%84%B8%EA%B5%90%EC%A0%95%EA%B9%94%EC%B0%BD&n_rank=1&n_ad_group=grp-a001-02-000000001850501&n_ad=nad-a001-02-000000038799899&n_campaign_type=2&n_mall_pid=41669&NaPm=ct%3Djttu3qww%7Cci%3D0yK0000uRDPqqwfnVf23%7Ctr%3Dpla%7Chk%3D83cceda555c01cc5895417c439fa2d058292c0f6#detail_tab_04\"\n",
    "\n",
    "\n",
    "\n",
    "\n"
   ]
  }
 ],
 "metadata": {
  "kernelspec": {
   "display_name": "Python 3",
   "language": "python",
   "name": "python3"
  },
  "language_info": {
   "codemirror_mode": {
    "name": "ipython",
    "version": 3
   },
   "file_extension": ".py",
   "mimetype": "text/x-python",
   "name": "python",
   "nbconvert_exporter": "python",
   "pygments_lexer": "ipython3",
   "version": "3.6.5"
  }
 },
 "nbformat": 4,
 "nbformat_minor": 2
}
