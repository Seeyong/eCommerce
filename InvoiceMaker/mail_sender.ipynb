{
 "cells": [
  {
   "cell_type": "code",
   "execution_count": 7,
   "metadata": {},
   "outputs": [],
   "source": [
    "import smtplib, os\n",
    "from email import encoders\n",
    "from email.mime.text import MIMEText\n",
    "from email.mime.multipart import MIMEMultipart\n",
    "from email.mime.base import MIMEBase"
   ]
  },
  {
   "cell_type": "code",
   "execution_count": 8,
   "metadata": {},
   "outputs": [],
   "source": [
    "'''email setting'''\n",
    "fromaddress = 'skjoldenstore@gmail.com'\n",
    "pw = 'skjolden0725'\n",
    "\n",
    "toaddress = 'abcde987@naver.com'\n",
    "\n",
    "'''contents of email'''\n",
    "# title\n",
    "msg = MIMEMultipart()\n",
    "title = '[숄든] 4월 4일자 주문 발주'\n",
    "msg['Subject'] = title\n",
    "\n",
    "# message\n",
    "content = '''\n",
    "숄든 금일자 주문 발주서 전달드립니다.\n",
    "총 주문고객 1명 입니다.\n",
    "\n",
    "발송 후 배송 택배사와 송장번호 공유 부탁드립니다.\n",
    "\n",
    "감사합니다.\n",
    "\n",
    "숄든 이시용 드림.\n",
    "'''\n",
    "text = MIMEText(content)\n",
    "\n",
    "# converge title and message\n",
    "msg.attach(text)\n",
    "msg['To'] = toaddress"
   ]
  },
  {
   "cell_type": "code",
   "execution_count": 11,
   "metadata": {},
   "outputs": [],
   "source": [
    "'''attach files'''\n",
    "files = r'/Users/seeyonglee/eCommerce/InvoiceMaker/Valuation_Sample_Templatet1.xlsx'\n",
    "files = files.encode(\"utf-8\") # for kr-kor\n",
    "\n",
    "part = MIMEBase(\"application\", \"octet-stream\")\n",
    "part.set_payload(open(files, 'rb').read())\n",
    "encoders.encode_base64(part)\n",
    "filename = 'Valuation Sample Template 1.xlsx'\n",
    "part.add_header('Content-Disposition', 'attachment', filename=filename)\n",
    "msg.attach(part)"
   ]
  },
  {
   "cell_type": "code",
   "execution_count": 12,
   "metadata": {},
   "outputs": [
    {
     "data": {
      "text/plain": [
       "(235, b'2.7.0 Accepted')"
      ]
     },
     "execution_count": 12,
     "metadata": {},
     "output_type": "execute_result"
    }
   ],
   "source": [
    "'''access to smtp'''\n",
    "s = smtplib.SMTP('smtp.gmail.com', 587)\n",
    "# https://support.google.com/mail/answer/7126229?visit_id=636859633059967405-2184782878&hl=ko&rd=1\n",
    "s.starttls()\n",
    "s.login(fromaddress, pw)"
   ]
  },
  {
   "cell_type": "code",
   "execution_count": 13,
   "metadata": {},
   "outputs": [
    {
     "data": {
      "text/plain": [
       "(221, b'2.0.0 closing connection t64sm107917054pfa.86 - gsmtp')"
      ]
     },
     "execution_count": 13,
     "metadata": {},
     "output_type": "execute_result"
    }
   ],
   "source": [
    "'''send email and quit'''\n",
    "s.sendmail(fromaddress, toaddress, msg.as_string())\n",
    "\n",
    "s.quit()"
   ]
  },
  {
   "cell_type": "code",
   "execution_count": null,
   "metadata": {},
   "outputs": [],
   "source": []
  }
 ],
 "metadata": {
  "kernelspec": {
   "display_name": "Python 3",
   "language": "python",
   "name": "python3"
  },
  "language_info": {
   "codemirror_mode": {
    "name": "ipython",
    "version": 3
   },
   "file_extension": ".py",
   "mimetype": "text/x-python",
   "name": "python",
   "nbconvert_exporter": "python",
   "pygments_lexer": "ipython3",
   "version": "3.6.5"
  }
 },
 "nbformat": 4,
 "nbformat_minor": 2
}
