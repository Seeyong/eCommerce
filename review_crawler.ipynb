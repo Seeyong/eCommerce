{
 "cells": [
  {
   "cell_type": "code",
   "execution_count": 198,
   "metadata": {},
   "outputs": [],
   "source": [
    "from selenium import webdriver\n",
    "from selenium.webdriver.common.keys import Keys\n",
    "import time"
   ]
  },
  {
   "cell_type": "code",
   "execution_count": 121,
   "metadata": {},
   "outputs": [],
   "source": [
    "# Delete multiple words from text\n",
    "def replaceMultiple(mainString, toBeReplaces, newString):\n",
    "    # Iterate over the strings to be replaced\n",
    "    for elem in toBeReplaces :\n",
    "        # Check if string is in the main string\n",
    "        if elem in mainString :\n",
    "            # Replace the string\n",
    "            mainString = mainString.replace(elem, newString)\n",
    "    \n",
    "    return  mainString"
   ]
  },
  {
   "cell_type": "markdown",
   "metadata": {},
   "source": [
    "## scraping reviews"
   ]
  },
  {
   "cell_type": "code",
   "execution_count": 200,
   "metadata": {},
   "outputs": [],
   "source": [
    "# Scraping Reviews\n",
    "def reviewScraper(driver):\n",
    "    for num_pg in range(1, 12): #58\n",
    "        #scraping\n",
    "    #     driver = webdriver.Chrome('./chromedriver')\n",
    "    #     driver.get(baseUrl)\n",
    "        elem = driver.find_element_by_id('listPowerReview')\n",
    "        reviews = elem.text.split('이 리뷰가 도움이 되셨나요?')\n",
    "        \n",
    "        time.sleep(1)\n",
    "        driver.refresh()  # refresh\n",
    "\n",
    "        final=[]\n",
    "        word_to_delete = ['\\n','★','작성자 : 네이버***','조회수 :','0','1','2','3','4','5','6','7','8','9','...▼ 더보기']\n",
    "        for review in reviews:\n",
    "            text = replaceMultiple(review, word_to_delete, \"\").strip()\n",
    "            if text != '':\n",
    "                final.append(text)\n",
    "\n",
    "        # paging\n",
    "        paging = driver.find_element_by_class_name('paging')\n",
    "        links = paging.find_elements_by_tag_name('a')\n",
    "        nextPage = paging.find_elements_by_class_name('next')\n",
    "        \n",
    "        time.sleep(1)\n",
    "        driver.refresh()  # refresh\n",
    "\n",
    "        if num_pg == 12:\n",
    "            break\n",
    "        elif num_pg % 10 == 0:\n",
    "            nextPage.click()\n",
    "        else:\n",
    "            next_page = str(num_pg + 1)\n",
    "            print(next_page)\n",
    "            print(\"javascript:power_review_page('{}');\".format(next_page))\n",
    "            for link in links:\n",
    "                if link.get_attribute('href') == \"javascript:power_review_page('\" + next_page + \"');\":\n",
    "                    link.click()\n",
    "                    \n",
    "        print('next to go')\n",
    "    driver.quit()\n",
    "            \n",
    "    return final"
   ]
  },
  {
   "cell_type": "code",
   "execution_count": 204,
   "metadata": {},
   "outputs": [],
   "source": [
    "baseUrl = 'http://www.bodybogam.com/shop/shopdetail.html?branduid=2127765&ref=naver_open&NaPm=ct=jts5nneo%7Cci=0yi00028inLqLWK6gv09%7Ctr=pla%7Chk=07345664b7e61e570fd6c9af18bfe3de16e3565b#listPowerReview|page=1|list_sort=|list_term=1'\n",
    "\n",
    "driver = webdriver.Chrome('./chromedriver')\n",
    "driver.get(baseUrl)\n",
    "final_reviews = reviewScraper(driver)\n"
   ]
  },
  {
   "cell_type": "code",
   "execution_count": 173,
   "metadata": {},
   "outputs": [
    {
     "data": {
      "text/plain": [
       "['아주만족건강 생각 없이 살다가 골반이 너무 아파서 병원 갔더니 교정이 필요하다고 해서 찾아보다가 샀어요. 기분탓인지 모르겠는데 좀 안 아픈 것 같기도 하고 훨씬 나아요 잘 쓸게요!',\n",
       " '아주만족오래 걸으면 발바닥이 아파서 구매해봤는데 괜찮네요.. 처음엔 약간 불편했는데 오래걸으면 오히려 이거 쓰는게 발이 안아파용! 굿',\n",
       " '아주만족불편할줄 알았는데 오히려 발바닥 패드 없으면 신발을 못신어요!! ㅋㅋㅋ 진짜 혁명템이다 이건!!',\n",
       " '아주만족걸음걸이가 짝짝이라 신발이 한쪽만 닳아서 구매했습니다. 사용해보니 적응이되지않아 아직 편하진 않지만 확실히 올바르게걷고잇는 느낌이 확 들어요',\n",
       " '아주만족걸을때 발바닥이 너무 아파서 광고 보자마자 샀는데 폭신하고 발바닥이 안아프고 좋네요 엄마도 하나 사드려야겠어요!']"
      ]
     },
     "execution_count": 173,
     "metadata": {},
     "output_type": "execute_result"
    }
   ],
   "source": [
    "final_reviews"
   ]
  },
  {
   "cell_type": "code",
   "execution_count": 122,
   "metadata": {},
   "outputs": [
    {
     "name": "stdout",
     "output_type": "stream",
     "text": [
      "['작성자 : 네이버***\\n조회수 : 317\\n★★★★★\\n아주만족\\n건강 생각 없이 살다가 골반이 너무 아파서 병원 갔더니 교정이 필요하다고 해서 찾아보다가 샀어요. 기분탓인지 모르겠는데 좀 안 아픈 것 같기도 하고 훨씬 나아요 잘 쓸게요!\\n', ' 30 3\\n작성자 : 네이버***\\n조회수 : 66\\n★★★★★\\n아주만족\\n\\n오래 걸으면 발바닥이 아파서 구매해봤는데 괜찮네요.. 처음엔 약간 불편했는데 오래걸으면 오히려 이거 쓰는게 발이 안아파용! 굿\\n\\n\\n...▼ 더보기\\n\\n\\n\\n\\n\\n\\n\\n\\n', ' 20 3\\n작성자 : 네이버***\\n조회수 : 204\\n★★★★★\\n아주만족\\n\\n불편할줄 알았는데 오히려 발바닥 패드 없으면 신발을 못신어요!! ㅋㅋㅋ 진짜 혁명템이다 이건!!\\n\\n\\n...▼ 더보기\\n\\n\\n\\n\\n\\n\\n\\n\\n', ' 28 3\\n작성자 : 네이버***\\n조회수 : 83\\n★★★★★\\n아주만족\\n\\n걸음걸이가 짝짝이라 신발이 한쪽만 닳아서 구매했습니다. 사용해보니 적응이되지않아 아직 편하진 않지만 확실히 올바르게걷고잇는 느낌이 확 들어요\\n\\n\\n...▼ 더보기\\n\\n\\n\\n\\n\\n\\n\\n\\n', ' 20 1\\n작성자 : 네이버***\\n조회수 : 166\\n★★★★★\\n아주만족\\n\\n걸을때 발바닥이 너무 아파서 광고 보자마자 샀는데 폭신하고 발바닥이 안아프고 좋네요 엄마도 하나 사드려야겠어요!\\n\\n\\n...▼ 더보기\\n\\n\\n\\n\\n\\n\\n\\n\\n', ' 25 4\\n1 2 3 4 5 6 7 8 9 10']\n"
     ]
    }
   ],
   "source": [
    "driver = webdriver.Chrome('./chromedriver')\n",
    "driver.get('http://www.bodybogam.com/shop/shopdetail.html?branduid=2127765&ref=naver_open&NaPm=ct=jts5nneo%7Cci=0yi00028inLqLWK6gv09%7Ctr=pla%7Chk=07345664b7e61e570fd6c9af18bfe3de16e3565b#listPowerReview|page=1|list_sort=|list_term=1')\n",
    "elem = driver.find_element_by_id('listPowerReview')\n",
    "reviews = elem.text.split('이 리뷰가 도움이 되셨나요?')\n",
    "print(reviews)\n",
    "# simple_reviews = elem.find_element_by_class_name('pr-content-simple')\n",
    "driver.quit()\n",
    "\n"
   ]
  },
  {
   "cell_type": "code",
   "execution_count": 203,
   "metadata": {},
   "outputs": [],
   "source": [
    "driver.quit()"
   ]
  },
  {
   "cell_type": "code",
   "execution_count": 123,
   "metadata": {},
   "outputs": [
    {
     "data": {
      "text/plain": [
       "['아주만족건강 생각 없이 살다가 골반이 너무 아파서 병원 갔더니 교정이 필요하다고 해서 찾아보다가 샀어요. 기분탓인지 모르겠는데 좀 안 아픈 것 같기도 하고 훨씬 나아요 잘 쓸게요!',\n",
       " '아주만족오래 걸으면 발바닥이 아파서 구매해봤는데 괜찮네요.. 처음엔 약간 불편했는데 오래걸으면 오히려 이거 쓰는게 발이 안아파용! 굿',\n",
       " '아주만족불편할줄 알았는데 오히려 발바닥 패드 없으면 신발을 못신어요!! ㅋㅋㅋ 진짜 혁명템이다 이건!!',\n",
       " '아주만족걸음걸이가 짝짝이라 신발이 한쪽만 닳아서 구매했습니다. 사용해보니 적응이되지않아 아직 편하진 않지만 확실히 올바르게걷고잇는 느낌이 확 들어요',\n",
       " '아주만족걸을때 발바닥이 너무 아파서 광고 보자마자 샀는데 폭신하고 발바닥이 안아프고 좋네요 엄마도 하나 사드려야겠어요!']"
      ]
     },
     "execution_count": 123,
     "metadata": {},
     "output_type": "execute_result"
    }
   ],
   "source": [
    "final=[]\n",
    "word_to_delete = ['\\n','★','작성자 : 네이버***','조회수 :','0','1','2','3','4','5','6','7','8','9','...▼ 더보기']\n",
    "for review in reviews:\n",
    "    text = replaceMultiple(review, word_to_delete, \"\").strip()\n",
    "    if text != '':\n",
    "        final.append(text)\n",
    "final\n",
    "\n",
    "\n"
   ]
  },
  {
   "cell_type": "markdown",
   "metadata": {},
   "source": [
    "## Paging"
   ]
  },
  {
   "cell_type": "code",
   "execution_count": 205,
   "metadata": {},
   "outputs": [],
   "source": [
    "driver = webdriver.Chrome('./chromedriver')\n",
    "driver.get('http://www.bodybogam.com/shop/shopdetail.html?branduid=2127765&ref=naver_open&NaPm=ct=jts5nneo%7Cci=0yi00028inLqLWK6gv09%7Ctr=pla%7Chk=07345664b7e61e570fd6c9af18bfe3de16e3565b#listPowerReview|page=1|list_sort=|list_term=1')\n",
    "paging = driver.find_element_by_class_name('paging')\n",
    "\n",
    "links = paging.find_elements_by_tag_name('a')\n",
    "nextPage = paging.find_elements_by_class_name('next')\n",
    "print(nextPage[0].get_attribute('href'))\n",
    "next_page = '4'\n",
    "nextHref = \"javascript:power_review_page('\" + next_page + \"');\"\n",
    "\n",
    "for link in links:\n",
    "    if link.get_attribute('href') == nextHref:\n",
    "        link.click()\n",
    "\n",
    "# driver.quit()"
   ]
  },
  {
   "cell_type": "code",
   "execution_count": null,
   "metadata": {},
   "outputs": [],
   "source": []
  }
 ],
 "metadata": {
  "kernelspec": {
   "display_name": "Python 3",
   "language": "python",
   "name": "python3"
  },
  "language_info": {
   "codemirror_mode": {
    "name": "ipython",
    "version": 3
   },
   "file_extension": ".py",
   "mimetype": "text/x-python",
   "name": "python",
   "nbconvert_exporter": "python",
   "pygments_lexer": "ipython3",
   "version": "3.6.5"
  }
 },
 "nbformat": 4,
 "nbformat_minor": 2
}
